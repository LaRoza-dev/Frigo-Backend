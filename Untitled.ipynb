{
 "cells": [
  {
   "cell_type": "code",
   "execution_count": 1,
   "id": "70ed1c45-bfbe-47ff-9388-43297fdeb8fb",
   "metadata": {},
   "outputs": [],
   "source": [
    "import flask\n",
    "from flask import request, jsonify, make_response\n",
    "from flask_cors import CORS\n",
    "from replit import db\n",
    "import uuid\n"
   ]
  },
  {
   "cell_type": "code",
   "execution_count": 2,
   "id": "dddbf65e-6028-4f46-bc54-1a47dddb5b88",
   "metadata": {},
   "outputs": [
    {
     "data": {
      "text/plain": [
       "<flask_cors.extension.CORS at 0x10725b5e0>"
      ]
     },
     "execution_count": 2,
     "metadata": {},
     "output_type": "execute_result"
    }
   ],
   "source": [
    "app = flask.Flask(__name__)\n",
    "app.config[\"DEBUG\"] = False\n",
    "CORS(app)"
   ]
  },
  {
   "cell_type": "code",
   "execution_count": null,
   "id": "6631f5b7-8702-467a-97f3-68b2dd502fa2",
   "metadata": {},
   "outputs": [],
   "source": [
    "def add_recipe(recipe):\n",
    "    db.update(recipe)\n"
   ]
  },
  {
   "cell_type": "code",
   "execution_count": null,
   "id": "47c1ce39-d19e-4a37-94f5-b1b3a671298b",
   "metadata": {},
   "outputs": [],
   "source": [
    "def get_recipes(recipe_id):\n",
    "    if recipe_id:\n",
    "        return next(item for item in db if item[\"id\"] == recipe_id)\n",
    "    else:\n",
    "        return db"
   ]
  },
  {
   "cell_type": "code",
   "execution_count": null,
   "id": "126b0306-63c5-4ebd-ad3f-eb0c9325c003",
   "metadata": {},
   "outputs": [],
   "source": [
    "def remove_recipe(recipe_id):\n",
    "    return {}"
   ]
  },
  {
   "cell_type": "code",
   "execution_count": null,
   "id": "4505fe2c-ef3f-40fd-86f6-dad3f2c33163",
   "metadata": {},
   "outputs": [],
   "source": [
    "def show_db():\n",
    "    return db"
   ]
  },
  {
   "cell_type": "code",
   "execution_count": 3,
   "id": "1f0fb342-513b-4d07-bbff-7233d82fe548",
   "metadata": {},
   "outputs": [],
   "source": [
    "@app.route('/', methods=['POST', 'GET'])\n",
    "def root():\n",
    "    if request.method != 'POST':\n",
    "        resp = flask.Response(\"You need to send a POST request\")\n",
    "        resp.headers['Access-Control-Allow-Origin'] = '*'\n",
    "        return resp\n",
    "    else:\n",
    "        recipe = request.json\n",
    "        resp = make_response(request.json)\n",
    "        resp.headers['Access-Control-Allow-Origin'] = '*'\n",
    "        return resp"
   ]
  },
  {
   "cell_type": "code",
   "execution_count": null,
   "id": "025a3e49-2ef0-43e8-a9da-95e383475a41",
   "metadata": {},
   "outputs": [],
   "source": [
    "@app.route('/get', methods=['POST', 'GET'])\n",
    "def get():\n",
    "    get_recipes(request.json)\n"
   ]
  },
  {
   "cell_type": "code",
   "execution_count": null,
   "id": "f0ea12ff-ea82-40a3-a1be-c6a879998562",
   "metadata": {},
   "outputs": [
    {
     "name": "stdout",
     "output_type": "stream",
     "text": [
      " * Serving Flask app '__main__' (lazy loading)\n",
      " * Environment: production\n",
      "\u001b[31m   WARNING: This is a development server. Do not use it in a production deployment.\u001b[0m\n",
      "\u001b[2m   Use a production WSGI server instead.\u001b[0m\n",
      " * Debug mode: off\n"
     ]
    },
    {
     "name": "stderr",
     "output_type": "stream",
     "text": [
      " * Running on all addresses.\n",
      "   WARNING: This is a development server. Do not use it in a production deployment.\n",
      " * Running on http://192.168.1.214:8080/ (Press CTRL+C to quit)\n",
      "192.168.1.214 - - [24/Jun/2021 18:07:48] \"GET / HTTP/1.1\" 200 -\n",
      "192.168.1.214 - - [24/Jun/2021 18:07:51] \"GET / HTTP/1.1\" 200 -\n"
     ]
    }
   ],
   "source": [
    "app.run(host='0.0.0.0', port=8080)\n"
   ]
  },
  {
   "cell_type": "code",
   "execution_count": null,
   "id": "163b8382-a453-43c7-8985-7941e2b806f2",
   "metadata": {},
   "outputs": [],
   "source": []
  }
 ],
 "metadata": {
  "kernelspec": {
   "display_name": "Python 3",
   "language": "python",
   "name": "python3"
  },
  "language_info": {
   "codemirror_mode": {
    "name": "ipython",
    "version": 3
   },
   "file_extension": ".py",
   "mimetype": "text/x-python",
   "name": "python",
   "nbconvert_exporter": "python",
   "pygments_lexer": "ipython3",
   "version": "3.9.5"
  }
 },
 "nbformat": 4,
 "nbformat_minor": 5
}
